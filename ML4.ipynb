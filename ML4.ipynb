{
 "cells": [
  {
   "cell_type": "code",
   "execution_count": 1,
   "id": "6ad9ae96-ab5d-4ab2-aca7-88d5a3472fa0",
   "metadata": {},
   "outputs": [],
   "source": [
    "import numpy as np\n",
    "import matplotlib.pyplot as plt"
   ]
  },
  {
   "cell_type": "code",
   "execution_count": 2,
   "id": "d5416065-163e-4715-85cf-f75d0b6204f5",
   "metadata": {},
   "outputs": [],
   "source": [
    "def f(x): \n",
    "    return (x+3)**2\n",
    "def df(x): \n",
    "    return 2*x + 6"
   ]
  },
  {
   "cell_type": "code",
   "execution_count": 5,
   "id": "0cd2639e-faaa-4353-bc38-335f7f8f206f",
   "metadata": {},
   "outputs": [],
   "source": [
    "def gradient_descent(initial_x, learning_rate, num_iterations):\n",
    "    x = initial_x\n",
    "    x_history= [x] \n",
    "    for i in range(num_iterations): \n",
    "        gradient = df(x) \n",
    "        x = x - learning_rate * gradient \n",
    "        x_history.append(x)\n",
    "    return x, x_history"
   ]
  },
  {
   "cell_type": "code",
   "execution_count": 7,
   "id": "7bbd553b-396d-4213-969f-5f2d65dfa233",
   "metadata": {},
   "outputs": [
    {
     "name": "stdout",
     "output_type": "stream",
     "text": [
      "Local minimum: -3.00\n"
     ]
    }
   ],
   "source": [
    "initial_x = 2\n",
    "learning_rate = 0.1\n",
    "num_iterations = 50\n",
    "x, x_history= gradient_descent(initial_x, learning_rate, num_iterations) \n",
    "print(\"Local minimum: {:.2f}\".format(x))"
   ]
  },
  {
   "cell_type": "code",
   "execution_count": null,
   "id": "dbaf68ce-f52f-407e-b5e5-b09dc6a75969",
   "metadata": {},
   "outputs": [],
   "source": [
    "x_vals = np.linspace(-1, 5, 100)\n",
    "plt.plot(x_vals, f(x_vals))\n",
    "plt.plot(x_history, f(np.array(x_history)), 'rx')\n",
    "plt.xlabel('x')\n",
    "plt.ylabel('f(x)')\n",
    "plt.title('Gradient Descent')\n",
    "plt.show()"
   ]
  }
 ],
 "metadata": {
  "kernelspec": {
   "display_name": "Python 3 (ipykernel)",
   "language": "python",
   "name": "python3"
  },
  "language_info": {
   "codemirror_mode": {
    "name": "ipython",
    "version": 3
   },
   "file_extension": ".py",
   "mimetype": "text/x-python",
   "name": "python",
   "nbconvert_exporter": "python",
   "pygments_lexer": "ipython3",
   "version": "3.12.3"
  }
 },
 "nbformat": 4,
 "nbformat_minor": 5
}
